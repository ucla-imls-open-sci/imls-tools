{
 "cells": [
  {
   "cell_type": "markdown",
   "metadata": {},
   "source": [
    "# Load API Key and OPENAI Package"
   ]
  },
  {
   "cell_type": "markdown",
   "metadata": {},
   "source": [
    "Loads all of the packages that will be used and the OpenAI API Key that will be used. Store your OpenAI API Key in a .env file.\n",
    "If you are missing any of these packages run the following commands\n",
    "```\n",
    "$   pip3 install PyPDF2\n",
    "$   pip3 install python.dotenv\n",
    "$   pip3 install openai\n",
    "$   pip3 install nltk\n",
    "```"
   ]
  },
  {
   "cell_type": "code",
   "execution_count": 13,
   "metadata": {},
   "outputs": [
    {
     "data": {
      "text/plain": [
       "True"
      ]
     },
     "execution_count": 13,
     "metadata": {},
     "output_type": "execute_result"
    }
   ],
   "source": [
    "import os\n",
    "import openai\n",
    "import PyPDF2\n",
    "from dotenv import load_dotenv\n",
    "\n",
    "load_dotenv()"
   ]
  },
  {
   "cell_type": "code",
   "execution_count": 5,
   "metadata": {},
   "outputs": [],
   "source": [
    "openai.organization = os.getenv(\"ORGANIZATION_KEY\")\n",
    "openai.api_key = os.getenv(\"OPENAI_API_KEY\")"
   ]
  },
  {
   "cell_type": "code",
   "execution_count": 6,
   "metadata": {},
   "outputs": [],
   "source": [
    "# Sample API Call\n",
    "# response = openai.Completion.create(\n",
    "#     engine=\"text-davinci-002\",  # Specify the engine (model) you want to use\n",
    "#     prompt=\"Translate the following English text to French: 'Hello, how are you?'\",\n",
    "#     max_tokens=50,  # Limit the length of the generated text\n",
    "# )"
   ]
  },
  {
   "cell_type": "markdown",
   "metadata": {},
   "source": [
    "# Lesson Proposals"
   ]
  },
  {
   "cell_type": "markdown",
   "metadata": {},
   "source": [
    "Lesson Proposals will be extracted using the PyPDF2 Package. You must have the lessons downloaded locally for this code to work and place it inside of a \n",
    "Lesson_Proposal folder. It will extract all of the text and put it into the <i style=\"color: red\"><b>proposal_text</b></i> variable."
   ]
  },
  {
   "cell_type": "markdown",
   "metadata": {},
   "source": [
    "## Retrieving Lesson Proposals"
   ]
  },
  {
   "cell_type": "code",
   "execution_count": 26,
   "metadata": {},
   "outputs": [
    {
     "name": "stdout",
     "output_type": "stream",
     "text": [
      ".DS_Store\n"
     ]
    }
   ],
   "source": [
    "# Stores the path of All the PDFs in the Lesson_Proposals Folder\n",
    "pdf_file_paths = []\n",
    "\n",
    "proposal_list = os.listdir(\"./Lesson_Proposals/\")\n",
    "\n",
    "# Extracts all the PDF Paths\n",
    "for i in proposal_list:\n",
    "    if i == \".DS_Store\":\n",
    "        continue\n",
    "    pdf_file_paths.append(f\"Lesson_Proposals/{i}\")"
   ]
  },
  {
   "cell_type": "code",
   "execution_count": 27,
   "metadata": {},
   "outputs": [
    {
     "name": "stdout",
     "output_type": "stream",
     "text": [
      "['Lesson_Proposals/114233851983_A_Path_to_Open_Inclusive_and_Collaborative_Science_for_Librarians.pdf', 'Lesson_Proposals/114233826722_Open_Hardware_for_librarians.pdf', 'Lesson_Proposals/114219657654_Data_Management_and_Sharing_Plans_for_Librarians_101.pdf', 'Lesson_Proposals/114229483598_Research Community Outreach with Open Science Team Agreements_Open_Science_Team_Agreements-Lessons_for_Librarians_in_Open_Science_Proposal.pdf', 'Lesson_Proposals/114232854610_Understanding_CARE_Principles_for_research_data.pdf', 'Lesson_Proposals/114233727582_Reproducible_research_workflows_2023_01_31.pdf', 'Lesson_Proposals/114205095243_Open_Qualitative_Research.pdf']\n"
     ]
    }
   ],
   "source": [
    "print(pdf_file_paths)"
   ]
  },
  {
   "cell_type": "code",
   "execution_count": 28,
   "metadata": {},
   "outputs": [],
   "source": [
    "# EXTRACT TEXT FROM EACH PROPOSAL\n",
    "\n",
    "lesson_proposal = []\n",
    "\n",
    "for i in pdf_file_paths:\n",
    "    pdf_file = open(i, 'rb')\n",
    "    pdf_reader = PyPDF2.PdfReader(pdf_file)\n",
    "\n",
    "    text = ''\n",
    "    for page_num in range(len(pdf_reader.pages)):\n",
    "        page = pdf_reader.pages[page_num]\n",
    "        text += page.extract_text()\n",
    "    \n",
    "    pdf_file.close()\n",
    "    lesson_proposal.append(text)\n"
   ]
  },
  {
   "cell_type": "markdown",
   "metadata": {},
   "source": [
    "## Cleaning Proposal Data"
   ]
  },
  {
   "cell_type": "code",
   "execution_count": 29,
   "metadata": {},
   "outputs": [
    {
     "name": "stderr",
     "output_type": "stream",
     "text": [
      "[nltk_data] Downloading package punkt to\n",
      "[nltk_data]     /Users/lawrencelee/nltk_data...\n",
      "[nltk_data]   Package punkt is already up-to-date!\n",
      "[nltk_data] Downloading package stopwords to\n",
      "[nltk_data]     /Users/lawrencelee/nltk_data...\n",
      "[nltk_data]   Package stopwords is already up-to-date!\n"
     ]
    },
    {
     "data": {
      "text/plain": [
       "True"
      ]
     },
     "execution_count": 29,
     "metadata": {},
     "output_type": "execute_result"
    }
   ],
   "source": [
    "import nltk\n",
    "nltk.download('punkt')\n",
    "nltk.download('stopwords')"
   ]
  },
  {
   "cell_type": "code",
   "execution_count": 33,
   "metadata": {},
   "outputs": [],
   "source": [
    "from nltk import sent_tokenize, word_tokenize\n",
    "proposal_sentence = sent_tokenize(lesson_proposal[0])\n",
    "proposal_tokens = word_tokenize(lesson_proposal[0])"
   ]
  },
  {
   "cell_type": "code",
   "execution_count": 34,
   "metadata": {},
   "outputs": [
    {
     "name": "stdout",
     "output_type": "stream",
     "text": [
      "['A Path to Open, Inclusive, and\\nCollaborative Science for Librarians\\nKeywords\\nOpen access, open science, open data, open educational resources, Spanish-speaking\\ncommunities\\nLesson Audience\\nLibrary and information science professionals who are interested in encouraging the use\\nof open research practices, easing access to open research resources, and generating\\nmore inclusive and accessible research networks for non-native English speakers.', 'Practitioners in the fields of information science who want to learn about scientific data\\nmanagement and stewardship from a Latin American context.', 'Description\\nThis 3-hour lesson is organized into three main sections covering: open, collaborative,\\nand inclusive science;\\nFAIR\\nand\\nCARE\\nprinciples; and\\nLatin American initiatives and\\npractices.', 'The declaration of 2023 as the\\nYear of Open Science\\nby NASA  and other federal US\\nagencies reflects the belief that open science is a pillar to ensure information access\\nand the democratization of the scientific process.', 'As Chelle Gentemann, program\\nscientist for NASA ’s\\nTransform to Open Science (T OPS)\\nmission, recently shared in\\nNature\\n, “I realized that open science isn’t just about\\ntools.', 'Open-science innovation is\\nbeing driven by a global community with diverse perspectives.', 'The scientific questions\\nare more interesting and nuanced, the solutions better .”\\nW\\ne want to share how\\nopen\\nscience communities, especially those from marginalized regions like Latin America,\\nactively participate in implementing, educating, and disseminating open practices and\\nresources.', 'Open science communities and organizations are settings whereresearchers and societal stakeholders can meet to achieve results that are not only\\ntechnically but also socially meaningful through the use of transparent, reproducible,\\nand verifiable methods with contributors from dif ferent regions, disciplines, and social\\nrealities.', 'Non-native English-speaking researchers, educators, and professionals\\nfrequently face dif ficulties obtaining the resources they need to carry out their work,\\nbeing limited by lack of funding, language barriers, and geographical limitations.', 'Bringing experiences from Spanish-speaking communities of practice, we will work with\\nlibrarians to discuss the challenges faced by such communities when dealing with data\\nand other resources that are only available in English, making language an accessibility\\nbarrier .', 'We will discuss aspects of how open science practices may help marginalized\\ncommunities of scholars get past barriers caused by language, socioeconomic status,\\nand other factors in order to foster a more inclusive scientific community .', 'We will introduce open science concepts and principles, with great emphasis on\\napplying F AIR principles to library work in order to make data more findable, accessible,\\ninteroperable, and reproducible.', 'With examples from Latin American data governance\\nprojects to show many paths to open science, we will also include the CARE Principles\\nfor Indigenous Data Governance\\nto highlight the significance\\nof ethical and responsible\\nwork with data for fostering self-determination.', 'The lesson will present concepts of\\ncommunity-building and collaboration in open research, relating them to local content\\nsources such as\\nILDA\\n,\\nLatindex\\n, the\\nNational System\\nof Digital Repositories\\nand the\\nArgentinean\\nmapping of citizen science initiatives\\n.', 'We will also share our experience\\nteaching diverse audiences at\\nMetaDocencia\\n, an inclusive\\ncommunity to develop\\nevidence-based open teaching practices and materials and build technical and research\\ncapacity across Spanish-speaking countries.', 'W e will discuss resources for ongoing,\\nindependent learning after the workshop, including\\nThe Turing W ay\\nand the NASA\\nTOPS open training (to be released), which were created by a diverse group of open\\nscience practitioners.', 'Learning ObjectiveStudents will learn about the linguistic, socioeconomic, and disability-related barriers\\nthat marginalized communities face and the best practices that librarians should use to\\nmitigate them based on an open scientific approach.', 'Students will be able to reflect on\\nhow applying such practices can contribute to making science more socially\\nresponsible, gathering examples from\\nLatin America\\nto further understand inequality in\\nthese countries\\n.', 'Students will learn about the F AIR\\nand CARE guiding principles of\\nfairness and data accessibility in relation to everyday library activities.', 'Librarians that\\nassist students and researchers with data resources should be able to identify the\\ngeneral characteristics that make a resource universally accessible.', 'Students will be\\nable to locate some of the main limits and complexities that open science has in Latin\\nAmerica for being ef fectively inclusive and adapt that knowledge to the intrinsic\\nproperties and needs of their local communities of influence.']\n",
      "['A', 'Path', 'to', 'Open', ',', 'Inclusive', ',', 'and', 'Collaborative', 'Science', 'for', 'Librarians', 'Keywords', 'Open', 'access', ',', 'open', 'science', ',', 'open', 'data', ',', 'open', 'educational', 'resources', ',', 'Spanish-speaking', 'communities', 'Lesson', 'Audience', 'Library', 'and', 'information', 'science', 'professionals', 'who', 'are', 'interested', 'in', 'encouraging', 'the', 'use', 'of', 'open', 'research', 'practices', ',', 'easing', 'access', 'to', 'open', 'research', 'resources', ',', 'and', 'generating', 'more', 'inclusive', 'and', 'accessible', 'research', 'networks', 'for', 'non-native', 'English', 'speakers', '.', 'Practitioners', 'in', 'the', 'fields', 'of', 'information', 'science', 'who', 'want', 'to', 'learn', 'about', 'scientific', 'data', 'management', 'and', 'stewardship', 'from', 'a', 'Latin', 'American', 'context', '.', 'Description', 'This', '3-hour', 'lesson', 'is', 'organized', 'into', 'three', 'main', 'sections', 'covering', ':', 'open', ',', 'collaborative', ',', 'and', 'inclusive', 'science', ';', 'FAIR', 'and', 'CARE', 'principles', ';', 'and', 'Latin', 'American', 'initiatives', 'and', 'practices', '.', 'The', 'declaration', 'of', '2023', 'as', 'the', 'Year', 'of', 'Open', 'Science', 'by', 'NASA', 'and', 'other', 'federal', 'US', 'agencies', 'reflects', 'the', 'belief', 'that', 'open', 'science', 'is', 'a', 'pillar', 'to', 'ensure', 'information', 'access', 'and', 'the', 'democratization', 'of', 'the', 'scientific', 'process', '.', 'As', 'Chelle', 'Gentemann', ',', 'program', 'scientist', 'for', 'NASA', '’', 's', 'Transform', 'to', 'Open', 'Science', '(', 'T', 'OPS', ')', 'mission', ',', 'recently', 'shared', 'in', 'Nature', ',', '“', 'I', 'realized', 'that', 'open', 'science', 'isn', '’', 't', 'just', 'about', 'tools', '.', 'Open-science', 'innovation', 'is', 'being', 'driven', 'by', 'a', 'global', 'community', 'with', 'diverse', 'perspectives', '.', 'The', 'scientific', 'questions', 'are', 'more', 'interesting', 'and', 'nuanced', ',', 'the', 'solutions', 'better', '.', '”', 'W', 'e', 'want', 'to', 'share', 'how', 'open', 'science', 'communities', ',', 'especially', 'those', 'from', 'marginalized', 'regions', 'like', 'Latin', 'America', ',', 'actively', 'participate', 'in', 'implementing', ',', 'educating', ',', 'and', 'disseminating', 'open', 'practices', 'and', 'resources', '.', 'Open', 'science', 'communities', 'and', 'organizations', 'are', 'settings', 'whereresearchers', 'and', 'societal', 'stakeholders', 'can', 'meet', 'to', 'achieve', 'results', 'that', 'are', 'not', 'only', 'technically', 'but', 'also', 'socially', 'meaningful', 'through', 'the', 'use', 'of', 'transparent', ',', 'reproducible', ',', 'and', 'verifiable', 'methods', 'with', 'contributors', 'from', 'dif', 'ferent', 'regions', ',', 'disciplines', ',', 'and', 'social', 'realities', '.', 'Non-native', 'English-speaking', 'researchers', ',', 'educators', ',', 'and', 'professionals', 'frequently', 'face', 'dif', 'ficulties', 'obtaining', 'the', 'resources', 'they', 'need', 'to', 'carry', 'out', 'their', 'work', ',', 'being', 'limited', 'by', 'lack', 'of', 'funding', ',', 'language', 'barriers', ',', 'and', 'geographical', 'limitations', '.', 'Bringing', 'experiences', 'from', 'Spanish-speaking', 'communities', 'of', 'practice', ',', 'we', 'will', 'work', 'with', 'librarians', 'to', 'discuss', 'the', 'challenges', 'faced', 'by', 'such', 'communities', 'when', 'dealing', 'with', 'data', 'and', 'other', 'resources', 'that', 'are', 'only', 'available', 'in', 'English', ',', 'making', 'language', 'an', 'accessibility', 'barrier', '.', 'We', 'will', 'discuss', 'aspects', 'of', 'how', 'open', 'science', 'practices', 'may', 'help', 'marginalized', 'communities', 'of', 'scholars', 'get', 'past', 'barriers', 'caused', 'by', 'language', ',', 'socioeconomic', 'status', ',', 'and', 'other', 'factors', 'in', 'order', 'to', 'foster', 'a', 'more', 'inclusive', 'scientific', 'community', '.', 'We', 'will', 'introduce', 'open', 'science', 'concepts', 'and', 'principles', ',', 'with', 'great', 'emphasis', 'on', 'applying', 'F', 'AIR', 'principles', 'to', 'library', 'work', 'in', 'order', 'to', 'make', 'data', 'more', 'findable', ',', 'accessible', ',', 'interoperable', ',', 'and', 'reproducible', '.', 'With', 'examples', 'from', 'Latin', 'American', 'data', 'governance', 'projects', 'to', 'show', 'many', 'paths', 'to', 'open', 'science', ',', 'we', 'will', 'also', 'include', 'the', 'CARE', 'Principles', 'for', 'Indigenous', 'Data', 'Governance', 'to', 'highlight', 'the', 'significance', 'of', 'ethical', 'and', 'responsible', 'work', 'with', 'data', 'for', 'fostering', 'self-determination', '.', 'The', 'lesson', 'will', 'present', 'concepts', 'of', 'community-building', 'and', 'collaboration', 'in', 'open', 'research', ',', 'relating', 'them', 'to', 'local', 'content', 'sources', 'such', 'as', 'ILDA', ',', 'Latindex', ',', 'the', 'National', 'System', 'of', 'Digital', 'Repositories', 'and', 'the', 'Argentinean', 'mapping', 'of', 'citizen', 'science', 'initiatives', '.', 'We', 'will', 'also', 'share', 'our', 'experience', 'teaching', 'diverse', 'audiences', 'at', 'MetaDocencia', ',', 'an', 'inclusive', 'community', 'to', 'develop', 'evidence-based', 'open', 'teaching', 'practices', 'and', 'materials', 'and', 'build', 'technical', 'and', 'research', 'capacity', 'across', 'Spanish-speaking', 'countries', '.', 'W', 'e', 'will', 'discuss', 'resources', 'for', 'ongoing', ',', 'independent', 'learning', 'after', 'the', 'workshop', ',', 'including', 'The', 'Turing', 'W', 'ay', 'and', 'the', 'NASA', 'TOPS', 'open', 'training', '(', 'to', 'be', 'released', ')', ',', 'which', 'were', 'created', 'by', 'a', 'diverse', 'group', 'of', 'open', 'science', 'practitioners', '.', 'Learning', 'ObjectiveStudents', 'will', 'learn', 'about', 'the', 'linguistic', ',', 'socioeconomic', ',', 'and', 'disability-related', 'barriers', 'that', 'marginalized', 'communities', 'face', 'and', 'the', 'best', 'practices', 'that', 'librarians', 'should', 'use', 'to', 'mitigate', 'them', 'based', 'on', 'an', 'open', 'scientific', 'approach', '.', 'Students', 'will', 'be', 'able', 'to', 'reflect', 'on', 'how', 'applying', 'such', 'practices', 'can', 'contribute', 'to', 'making', 'science', 'more', 'socially', 'responsible', ',', 'gathering', 'examples', 'from', 'Latin', 'America', 'to', 'further', 'understand', 'inequality', 'in', 'these', 'countries', '.', 'Students', 'will', 'learn', 'about', 'the', 'F', 'AIR', 'and', 'CARE', 'guiding', 'principles', 'of', 'fairness', 'and', 'data', 'accessibility', 'in', 'relation', 'to', 'everyday', 'library', 'activities', '.', 'Librarians', 'that', 'assist', 'students', 'and', 'researchers', 'with', 'data', 'resources', 'should', 'be', 'able', 'to', 'identify', 'the', 'general', 'characteristics', 'that', 'make', 'a', 'resource', 'universally', 'accessible', '.', 'Students', 'will', 'be', 'able', 'to', 'locate', 'some', 'of', 'the', 'main', 'limits', 'and', 'complexities', 'that', 'open', 'science', 'has', 'in', 'Latin', 'America', 'for', 'being', 'ef', 'fectively', 'inclusive', 'and', 'adapt', 'that', 'knowledge', 'to', 'the', 'intrinsic', 'properties', 'and', 'needs', 'of', 'their', 'local', 'communities', 'of', 'influence', '.']\n"
     ]
    }
   ],
   "source": [
    "print(proposal_sentence)\n",
    "print(proposal_tokens)"
   ]
  },
  {
   "cell_type": "code",
   "execution_count": 56,
   "metadata": {},
   "outputs": [],
   "source": [
    "import string\n",
    "table = str.maketrans('', '', string.punctuation)\n",
    "tokens = [w.translate(table) for w in proposal_tokens]"
   ]
  },
  {
   "cell_type": "code",
   "execution_count": 57,
   "metadata": {},
   "outputs": [
    {
     "name": "stdout",
     "output_type": "stream",
     "text": [
      "['A', 'Path', 'to', 'Open', '', 'Inclusive', '', 'and', 'Collaborative', 'Science', 'for', 'Librarians', 'Keywords', 'Open', 'access', '', 'open', 'science', '', 'open', 'data', '', 'open', 'educational', 'resources', '', 'Spanishspeaking', 'communities', 'Lesson', 'Audience', 'Library', 'and', 'information', 'science', 'professionals', 'who', 'are', 'interested', 'in', 'encouraging', 'the', 'use', 'of', 'open', 'research', 'practices', '', 'easing', 'access', 'to', 'open', 'research', 'resources', '', 'and', 'generating', 'more', 'inclusive', 'and', 'accessible', 'research', 'networks', 'for', 'nonnative', 'English', 'speakers', '', 'Practitioners', 'in', 'the', 'fields', 'of', 'information', 'science', 'who', 'want', 'to', 'learn', 'about', 'scientific', 'data', 'management', 'and', 'stewardship', 'from', 'a', 'Latin', 'American', 'context', '', 'Description', 'This', '3hour', 'lesson', 'is', 'organized', 'into', 'three', 'main', 'sections', 'covering', '', 'open', '', 'collaborative', '', 'and', 'inclusive', 'science', '', 'FAIR', 'and', 'CARE', 'principles', '', 'and', 'Latin', 'American', 'initiatives', 'and', 'practices', '', 'The', 'declaration', 'of', '2023', 'as', 'the', 'Year', 'of', 'Open', 'Science', 'by', 'NASA', 'and', 'other', 'federal', 'US', 'agencies', 'reflects', 'the', 'belief', 'that', 'open', 'science', 'is', 'a', 'pillar', 'to', 'ensure', 'information', 'access', 'and', 'the', 'democratization', 'of', 'the', 'scientific', 'process', '', 'As', 'Chelle', 'Gentemann', '', 'program', 'scientist', 'for', 'NASA', '’', 's', 'Transform', 'to', 'Open', 'Science', '', 'T', 'OPS', '', 'mission', '', 'recently', 'shared', 'in', 'Nature', '', '“', 'I', 'realized', 'that', 'open', 'science', 'isn', '’', 't', 'just', 'about', 'tools', '', 'Openscience', 'innovation', 'is', 'being', 'driven', 'by', 'a', 'global', 'community', 'with', 'diverse', 'perspectives', '', 'The', 'scientific', 'questions', 'are', 'more', 'interesting', 'and', 'nuanced', '', 'the', 'solutions', 'better', '', '”', 'W', 'e', 'want', 'to', 'share', 'how', 'open', 'science', 'communities', '', 'especially', 'those', 'from', 'marginalized', 'regions', 'like', 'Latin', 'America', '', 'actively', 'participate', 'in', 'implementing', '', 'educating', '', 'and', 'disseminating', 'open', 'practices', 'and', 'resources', '', 'Open', 'science', 'communities', 'and', 'organizations', 'are', 'settings', 'whereresearchers', 'and', 'societal', 'stakeholders', 'can', 'meet', 'to', 'achieve', 'results', 'that', 'are', 'not', 'only', 'technically', 'but', 'also', 'socially', 'meaningful', 'through', 'the', 'use', 'of', 'transparent', '', 'reproducible', '', 'and', 'verifiable', 'methods', 'with', 'contributors', 'from', 'dif', 'ferent', 'regions', '', 'disciplines', '', 'and', 'social', 'realities', '', 'Nonnative', 'Englishspeaking', 'researchers', '', 'educators', '', 'and', 'professionals', 'frequently', 'face', 'dif', 'ficulties', 'obtaining', 'the', 'resources', 'they', 'need', 'to', 'carry', 'out', 'their', 'work', '', 'being', 'limited', 'by', 'lack', 'of', 'funding', '', 'language', 'barriers', '', 'and', 'geographical', 'limitations', '', 'Bringing', 'experiences', 'from', 'Spanishspeaking', 'communities', 'of', 'practice', '', 'we', 'will', 'work', 'with', 'librarians', 'to', 'discuss', 'the', 'challenges', 'faced', 'by', 'such', 'communities', 'when', 'dealing', 'with', 'data', 'and', 'other', 'resources', 'that', 'are', 'only', 'available', 'in', 'English', '', 'making', 'language', 'an', 'accessibility', 'barrier', '', 'We', 'will', 'discuss', 'aspects', 'of', 'how', 'open', 'science', 'practices', 'may', 'help', 'marginalized', 'communities', 'of', 'scholars', 'get', 'past', 'barriers', 'caused', 'by', 'language', '', 'socioeconomic', 'status', '', 'and', 'other', 'factors', 'in', 'order', 'to', 'foster', 'a', 'more', 'inclusive', 'scientific', 'community', '', 'We', 'will', 'introduce', 'open', 'science', 'concepts', 'and', 'principles', '', 'with', 'great', 'emphasis', 'on', 'applying', 'F', 'AIR', 'principles', 'to', 'library', 'work', 'in', 'order', 'to', 'make', 'data', 'more', 'findable', '', 'accessible', '', 'interoperable', '', 'and', 'reproducible', '', 'With', 'examples', 'from', 'Latin', 'American', 'data', 'governance', 'projects', 'to', 'show', 'many', 'paths', 'to', 'open', 'science', '', 'we', 'will', 'also', 'include', 'the', 'CARE', 'Principles', 'for', 'Indigenous', 'Data', 'Governance', 'to', 'highlight', 'the', 'significance', 'of', 'ethical', 'and', 'responsible', 'work', 'with', 'data', 'for', 'fostering', 'selfdetermination', '', 'The', 'lesson', 'will', 'present', 'concepts', 'of', 'communitybuilding', 'and', 'collaboration', 'in', 'open', 'research', '', 'relating', 'them', 'to', 'local', 'content', 'sources', 'such', 'as', 'ILDA', '', 'Latindex', '', 'the', 'National', 'System', 'of', 'Digital', 'Repositories', 'and', 'the', 'Argentinean', 'mapping', 'of', 'citizen', 'science', 'initiatives', '', 'We', 'will', 'also', 'share', 'our', 'experience', 'teaching', 'diverse', 'audiences', 'at', 'MetaDocencia', '', 'an', 'inclusive', 'community', 'to', 'develop', 'evidencebased', 'open', 'teaching', 'practices', 'and', 'materials', 'and', 'build', 'technical', 'and', 'research', 'capacity', 'across', 'Spanishspeaking', 'countries', '', 'W', 'e', 'will', 'discuss', 'resources', 'for', 'ongoing', '', 'independent', 'learning', 'after', 'the', 'workshop', '', 'including', 'The', 'Turing', 'W', 'ay', 'and', 'the', 'NASA', 'TOPS', 'open', 'training', '', 'to', 'be', 'released', '', '', 'which', 'were', 'created', 'by', 'a', 'diverse', 'group', 'of', 'open', 'science', 'practitioners', '', 'Learning', 'ObjectiveStudents', 'will', 'learn', 'about', 'the', 'linguistic', '', 'socioeconomic', '', 'and', 'disabilityrelated', 'barriers', 'that', 'marginalized', 'communities', 'face', 'and', 'the', 'best', 'practices', 'that', 'librarians', 'should', 'use', 'to', 'mitigate', 'them', 'based', 'on', 'an', 'open', 'scientific', 'approach', '', 'Students', 'will', 'be', 'able', 'to', 'reflect', 'on', 'how', 'applying', 'such', 'practices', 'can', 'contribute', 'to', 'making', 'science', 'more', 'socially', 'responsible', '', 'gathering', 'examples', 'from', 'Latin', 'America', 'to', 'further', 'understand', 'inequality', 'in', 'these', 'countries', '', 'Students', 'will', 'learn', 'about', 'the', 'F', 'AIR', 'and', 'CARE', 'guiding', 'principles', 'of', 'fairness', 'and', 'data', 'accessibility', 'in', 'relation', 'to', 'everyday', 'library', 'activities', '', 'Librarians', 'that', 'assist', 'students', 'and', 'researchers', 'with', 'data', 'resources', 'should', 'be', 'able', 'to', 'identify', 'the', 'general', 'characteristics', 'that', 'make', 'a', 'resource', 'universally', 'accessible', '', 'Students', 'will', 'be', 'able', 'to', 'locate', 'some', 'of', 'the', 'main', 'limits', 'and', 'complexities', 'that', 'open', 'science', 'has', 'in', 'Latin', 'America', 'for', 'being', 'ef', 'fectively', 'inclusive', 'and', 'adapt', 'that', 'knowledge', 'to', 'the', 'intrinsic', 'properties', 'and', 'needs', 'of', 'their', 'local', 'communities', 'of', 'influence', '']\n"
     ]
    }
   ],
   "source": [
    "print(tokens)"
   ]
  },
  {
   "cell_type": "code",
   "execution_count": 59,
   "metadata": {},
   "outputs": [],
   "source": [
    "tokens = [word.lower() for word in tokens]\n",
    "# print(tokens)"
   ]
  },
  {
   "cell_type": "code",
   "execution_count": 53,
   "metadata": {},
   "outputs": [],
   "source": [
    "from nltk.corpus import stopwords\n",
    "stop_words = set(stopwords.words(\"english\"))\n",
    "tokens = [w for w in tokens if not w in stop_words]"
   ]
  },
  {
   "cell_type": "code",
   "execution_count": 55,
   "metadata": {},
   "outputs": [],
   "source": []
  },
  {
   "cell_type": "markdown",
   "metadata": {},
   "source": [
    "# Prompting GPT\n"
   ]
  },
  {
   "cell_type": "markdown",
   "metadata": {},
   "source": [
    "OpenAI's API currently doesn't support a continuous chat as far as im concerned. There are a lot of repositories that address this problem but I think the solution I will be going with is a long continuous chain, starting with providing a rubric to score similiarities, providing an output format, then ultimately providing all of the proposals. We can test this with the online version GPT prior to using the API to see if it generates the result we want."
   ]
  },
  {
   "cell_type": "markdown",
   "metadata": {},
   "source": [
    "## Creating the Prompt"
   ]
  },
  {
   "cell_type": "markdown",
   "metadata": {},
   "source": [
    "### Opening a Chat Log"
   ]
  },
  {
   "cell_type": "code",
   "execution_count": null,
   "metadata": {},
   "outputs": [],
   "source": [
    "# class Chat:"
   ]
  },
  {
   "cell_type": "markdown",
   "metadata": {},
   "source": [
    "### Providing a Rubric\n",
    "\n",
    "You can find the Rubric that was used to score similarity [here](https://docs.google.com/document/d/1x18mVubT2H4Gj_GvDM3nUupCqYQHaH8Qk8UleAQjPyU/edit)."
   ]
  },
  {
   "cell_type": "code",
   "execution_count": null,
   "metadata": {},
   "outputs": [],
   "source": [
    "# Telling GPT to use this Rubric when Grading the Proposals\n",
    "\n",
    "rubric_message = \"\"\"\n",
    "\n",
    "\"\"\""
   ]
  },
  {
   "cell_type": "markdown",
   "metadata": {},
   "source": [
    "### Telling GPT How to Output the Results"
   ]
  },
  {
   "cell_type": "code",
   "execution_count": null,
   "metadata": {},
   "outputs": [],
   "source": [
    "format_message = \"\"\"\n",
    "Please respond in the following format: \n",
    "\n",
    "1. Proposal 1 Title\n",
    "    Most Similar: (Proposal Most Similar to)\n",
    "        3-5 Sentences of Context comparing the 2 proposals\n",
    "        Rubric Score:\n",
    "            ...\n",
    "    Least Similar: (Proposal Least Similar to)\n",
    "        3-5 Sentences of Content comparing the 2 proposals\n",
    "        Rubric Score:\n",
    "            ...\n",
    "2. Proposal 2 Title\n",
    "    Same format as above\n",
    "3. The same format until all proposals have been considered\n",
    "\"\"\"\n"
   ]
  },
  {
   "cell_type": "markdown",
   "metadata": {},
   "source": [
    "### Combining all of the messages"
   ]
  },
  {
   "cell_type": "markdown",
   "metadata": {},
   "source": [
    "We will take all of the different messages created above and combine them together into one singular prompt that we can send to GPT.\n",
    "It will HOPEFULLY output an appropriate response."
   ]
  },
  {
   "cell_type": "code",
   "execution_count": null,
   "metadata": {},
   "outputs": [],
   "source": [
    "prompt = f\"\"\"\n",
    "You are going to receive several lesson proposals and your job is to compare them to find proposals that are most similar to each other. \n",
    "You will have a total of 7 proposals, A, B, C, etc. You will compare the proposals and see which is the most similar and least similar to each individual \n",
    "proposal. Each proposal will go through an individual comparison against each other. You will use the rubric that will be provided as a way to score\n",
    "the similarities between each proposal. This score will be used in your response.\n",
    "\n",
    "The Rubric:\n",
    "{rubric_message}\n",
    "\n",
    "{format_message}\n",
    "\n",
    "Here are the following proposals\n",
    "\n",
    "Proposal 1:\n",
    "{lesson_proposal[0]}\n",
    "\n",
    "Proposal 2:\n",
    "{lesson_proposal[1]}\n",
    "\n",
    "Proposal 3:\n",
    "{lesson_proposal[2]}\n",
    "\n",
    "Proposal 4:\n",
    "{lesson_proposal[3]}\n",
    "\n",
    "Proposal 5:\n",
    "{lesson_proposal[4]}\n",
    "\n",
    "Proposal 6:\n",
    "{lesson_proposal[5]}\n",
    "\n",
    "Proposal 7:\n",
    "{lesson_proposal[6]}\n",
    "\n",
    "\"\"\""
   ]
  },
  {
   "cell_type": "markdown",
   "metadata": {},
   "source": [
    "## Sending the Prompt"
   ]
  },
  {
   "cell_type": "markdown",
   "metadata": {},
   "source": [
    "### Sending API Call"
   ]
  },
  {
   "cell_type": "code",
   "execution_count": null,
   "metadata": {},
   "outputs": [],
   "source": [
    "# Using OPENAI's API to prompt gpt-4 to analyze the text\n",
    "response = openai.Completion.create(\n",
    "    engine=\"gpt-4\",  # Specify the engine (model) you want to use\n",
    "    prompt=\"Translate the following English text to French: 'Hello, how are you?'\",\n",
    "    max_tokens=5000,  # Limit the length of the generated text\n",
    ")"
   ]
  },
  {
   "cell_type": "markdown",
   "metadata": {},
   "source": [
    "### Extracting the Message"
   ]
  },
  {
   "cell_type": "markdown",
   "metadata": {},
   "source": [
    "The following code will create a new file/overwrite the \"GPT_Analysis.txt\" with GPT's text analysis of the lesson proposals."
   ]
  },
  {
   "cell_type": "code",
   "execution_count": null,
   "metadata": {},
   "outputs": [],
   "source": [
    "# print(response['choices'][0]['text'])\n",
    "GPT_Analysis = open(\"GPT_Analysis.txt\", 'w')\n",
    "GPT_Analysis.write(response['choices'][0]['text'])\n",
    "GPT_Analysis.close()"
   ]
  }
 ],
 "metadata": {
  "kernelspec": {
   "display_name": "Python 3",
   "language": "python",
   "name": "python3"
  },
  "language_info": {
   "codemirror_mode": {
    "name": "ipython",
    "version": 3
   },
   "file_extension": ".py",
   "mimetype": "text/x-python",
   "name": "python",
   "nbconvert_exporter": "python",
   "pygments_lexer": "ipython3",
   "version": "3.11.5"
  },
  "orig_nbformat": 4
 },
 "nbformat": 4,
 "nbformat_minor": 2
}
